{
 "cells": [
  {
   "cell_type": "markdown",
   "metadata": {},
   "source": [
    "## [作業重點]\n",
    "使用 Sklearn 中的 Lasso, Ridge 模型，來訓練各種資料集，務必了解送進去模型訓練的**資料型態**為何，也請了解模型中各項參數的意義。\n",
    "\n",
    "機器學習的模型非常多種，但要訓練的資料多半有固定的格式，確保你了解訓練資料的格式為何，這樣在應用新模型時，就能夠最快的上手開始訓練！"
   ]
  },
  {
   "cell_type": "markdown",
   "metadata": {},
   "source": [
    "## 練習時間\n",
    "試著使用 sklearn datasets 的其他資料集 (boston, ...)，來訓練自己的線性迴歸模型，並加上適當的正則化來觀察訓練情形。"
   ]
  },
  {
   "cell_type": "code",
   "execution_count": 24,
   "metadata": {},
   "outputs": [
    {
     "name": "stdout",
     "output_type": "stream",
     "text": [
      "r2_score:0.78\n"
     ]
    }
   ],
   "source": [
    "from sklearn import datasets,linear_model\n",
    "import numpy as np\n",
    "from sklearn.model_selection import train_test_split\n",
    "from sklearn.metrics import mean_squared_error,r2_score\n",
    "\n",
    "boston = datasets.load_boston()\n",
    "x_train,x_test,y_train,y_test = train_test_split(boston.data,boston.target,random_state=4,test_size=0.1)\n",
    "model = linear_model.Lasso(alpha=0.05) # alpha 0.5 ==> r2_score:0.76 因此改成 0.05\n",
    "model.fit(x_train,y_train)\n",
    "y_pred = model.predict(x_test)\n",
    "print('r2_score:%.2f' %r2_score(y_test,y_pred)) #模型越好：r2→1"
   ]
  },
  {
   "cell_type": "code",
   "execution_count": 25,
   "metadata": {},
   "outputs": [
    {
     "data": {
      "text/plain": [
       "array([-0.11679088,  0.05106821, -0.04204766,  2.05511926, -0.47593145,\n",
       "        3.66056369, -0.01130402, -1.22769252,  0.2822199 , -0.01420304,\n",
       "       -0.75517316,  0.01034618, -0.56551142])"
      ]
     },
     "execution_count": 25,
     "metadata": {},
     "output_type": "execute_result"
    }
   ],
   "source": [
    "model.coef_"
   ]
  },
  {
   "cell_type": "code",
   "execution_count": 48,
   "metadata": {},
   "outputs": [
    {
     "name": "stdout",
     "output_type": "stream",
     "text": [
      "r2_score:0.90\n"
     ]
    }
   ],
   "source": [
    "wine = datasets.load_wine()\n",
    "x1_train,x1_test,y1_train,y1_test = train_test_split(wine.data,wine.target,random_state=4,test_size=0.1)\n",
    "ridge = linear_model.Ridge(alpha=1) \n",
    "ridge.fit(x1_train,y1_train)\n",
    "y1_pred = ridge.predict(x1_test)\n",
    "print('r2_score:%.2f' %r2_score(y1_test,y1_pred)) #模型越好：r2→1"
   ]
  },
  {
   "cell_type": "code",
   "execution_count": 49,
   "metadata": {},
   "outputs": [
    {
     "data": {
      "text/plain": [
       "array([-1.02585859e-01,  3.04760174e-02, -1.72984304e-01,  4.20252277e-02,\n",
       "        3.29809025e-04,  1.22527858e-01, -3.52268478e-01, -1.43905193e-01,\n",
       "        3.86108428e-02,  7.68595958e-02, -1.38667607e-01, -2.52968701e-01,\n",
       "       -7.60006286e-04])"
      ]
     },
     "execution_count": 49,
     "metadata": {},
     "output_type": "execute_result"
    }
   ],
   "source": [
    "ridge.coef_"
   ]
  },
  {
   "cell_type": "code",
   "execution_count": null,
   "metadata": {},
   "outputs": [],
   "source": []
  }
 ],
 "metadata": {
  "kernelspec": {
   "display_name": "Python 3",
   "language": "python",
   "name": "python3"
  },
  "language_info": {
   "codemirror_mode": {
    "name": "ipython",
    "version": 3
   },
   "file_extension": ".py",
   "mimetype": "text/x-python",
   "name": "python",
   "nbconvert_exporter": "python",
   "pygments_lexer": "ipython3",
   "version": "3.8.3"
  }
 },
 "nbformat": 4,
 "nbformat_minor": 2
}
