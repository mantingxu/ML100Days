{
 "cells": [
  {
   "cell_type": "markdown",
   "metadata": {},
   "source": [
    "## [作業重點]\n",
    "使用 Sklearn 中的 Lasso, Ridge 模型，來訓練各種資料集，務必了解送進去模型訓練的**資料型態**為何，也請了解模型中各項參數的意義。\n",
    "\n",
    "機器學習的模型非常多種，但要訓練的資料多半有固定的格式，確保你了解訓練資料的格式為何，這樣在應用新模型時，就能夠最快的上手開始訓練！"
   ]
  },
  {
   "cell_type": "markdown",
   "metadata": {},
   "source": [
    "## 練習時間\n",
    "試著使用 sklearn datasets 的其他資料集 (boston, ...)，來訓練自己的線性迴歸模型，並加上適當的正則化來觀察訓練情形。"
   ]
  },
  {
   "cell_type": "code",
   "execution_count": 53,
   "metadata": {},
   "outputs": [
    {
     "name": "stdout",
     "output_type": "stream",
     "text": [
      "mse: 17.04\n"
     ]
    }
   ],
   "source": [
    "from sklearn import datasets,linear_model\n",
    "import numpy as np\n",
    "from sklearn.model_selection import train_test_split\n",
    "from sklearn.metrics import mean_squared_error,r2_score\n",
    "\n",
    "boston = datasets.load_boston()\n",
    "x_train,x_test,y_train,y_test = train_test_split(boston.data,boston.target,random_state=4,test_size=0.1)\n",
    "model = linear_model.Lasso(alpha=0.001) \n",
    "model.fit(x_train,y_train)\n",
    "y_pred = model.predict(x_test)\n",
    "print('mse: %.2f' %mean_squared_error(y_test,y_pred))\n",
    "#print('r2_score:%.2f' %r2_score(y_test,y_pred)) #模型越好：r2→1"
   ]
  },
  {
   "cell_type": "code",
   "execution_count": 54,
   "metadata": {},
   "outputs": [
    {
     "data": {
      "text/plain": [
       "array([-1.25679091e-01,  4.84728689e-02,  1.70215652e-02,  3.06478491e+00,\n",
       "       -1.69872215e+01,  3.61759309e+00,  1.91410587e-03, -1.48843935e+00,\n",
       "        3.19163345e-01, -1.27537131e-02, -9.23969995e-01,  9.52577090e-03,\n",
       "       -5.34208117e-01])"
      ]
     },
     "execution_count": 54,
     "metadata": {},
     "output_type": "execute_result"
    }
   ],
   "source": [
    "model.coef_"
   ]
  },
  {
   "cell_type": "code",
   "execution_count": 65,
   "metadata": {},
   "outputs": [
    {
     "name": "stdout",
     "output_type": "stream",
     "text": [
      "mse: 17.04\n"
     ]
    }
   ],
   "source": [
    "ridge = linear_model.Ridge(alpha = 0.001) \n",
    "ridge.fit(x_train,y_train)\n",
    "y_pred = ridge.predict(x_test)\n",
    "print('mse: %.2f' %mean_squared_error(y_test,y_pred))"
   ]
  },
  {
   "cell_type": "code",
   "execution_count": 63,
   "metadata": {},
   "outputs": [
    {
     "data": {
      "text/plain": [
       "array([-1.25850741e-01,  4.84275626e-02,  1.83564051e-02,  3.08483021e+00,\n",
       "       -1.73151437e+01,  3.61685325e+00,  2.18018319e-03, -1.49343255e+00,\n",
       "        3.19947629e-01, -1.27302672e-02, -9.27337659e-01,  9.50974505e-03,\n",
       "       -5.33608143e-01])"
      ]
     },
     "execution_count": 63,
     "metadata": {},
     "output_type": "execute_result"
    }
   ],
   "source": [
    "ridge.coef_"
   ]
  },
  {
   "cell_type": "code",
   "execution_count": null,
   "metadata": {},
   "outputs": [],
   "source": []
  }
 ],
 "metadata": {
  "kernelspec": {
   "display_name": "Python 3",
   "language": "python",
   "name": "python3"
  },
  "language_info": {
   "codemirror_mode": {
    "name": "ipython",
    "version": 3
   },
   "file_extension": ".py",
   "mimetype": "text/x-python",
   "name": "python",
   "nbconvert_exporter": "python",
   "pygments_lexer": "ipython3",
   "version": "3.8.3"
  }
 },
 "nbformat": 4,
 "nbformat_minor": 2
}
